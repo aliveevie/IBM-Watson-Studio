{
    "cells": [
        {
            "cell_type": "code",
            "execution_count": 1,
            "metadata": {},
            "outputs": [
                {
                    "data": {
                        "text/html": "<div>\n<style scoped>\n    .dataframe tbody tr th:only-of-type {\n        vertical-align: middle;\n    }\n\n    .dataframe tbody tr th {\n        vertical-align: top;\n    }\n\n    .dataframe thead th {\n        text-align: right;\n    }\n</style>\n<table border=\"1\" class=\"dataframe\">\n  <thead>\n    <tr style=\"text-align: right;\">\n      <th></th>\n      <th>Unnamed: 0</th>\n      <th>Unnamed: 1</th>\n      <th>SUBJECT:</th>\n      <th>ENGLISH LANGUAGE</th>\n      <th>Unnamed: 4</th>\n      <th>Unnamed: 5</th>\n      <th>Unnamed: 6</th>\n      <th>Unnamed: 7</th>\n      <th>MATHEMATICS</th>\n      <th>Unnamed: 9</th>\n      <th>...</th>\n      <th>Unnamed: 45</th>\n      <th>Unnamed: 46</th>\n      <th>Unnamed: 47</th>\n      <th>Unnamed: 48</th>\n      <th>Unnamed: 49</th>\n      <th>Unnamed: 50</th>\n      <th>Unnamed: 51</th>\n      <th>Unnamed: 52</th>\n      <th>Unnamed: 53</th>\n      <th>Unnamed: 54</th>\n    </tr>\n  </thead>\n  <tbody>\n    <tr>\n      <th>0</th>\n      <td>S/NO.</td>\n      <td>EXAM NUM</td>\n      <td>NAME</td>\n      <td>CA</td>\n      <td>EXAM</td>\n      <td>TOAL</td>\n      <td>GRADE</td>\n      <td>REMARKS</td>\n      <td>CA</td>\n      <td>EXAM</td>\n      <td>...</td>\n      <td>TOTAL</td>\n      <td>GRADE</td>\n      <td>REMARKS</td>\n      <td>CA TOTAL</td>\n      <td>EXAM TOTAL</td>\n      <td>TOTAL MARKS</td>\n      <td>POSITION</td>\n      <td>PRINCIPAL CM</td>\n      <td>AVR SCORE</td>\n      <td>SUFFIX</td>\n    </tr>\n    <tr>\n      <th>1</th>\n      <td>1</td>\n      <td>SCI/299</td>\n      <td>ABBAS MUHAMMAD</td>\n      <td>15</td>\n      <td>15</td>\n      <td>30</td>\n      <td>F9</td>\n      <td>FAIL</td>\n      <td>23</td>\n      <td>34</td>\n      <td>...</td>\n      <td>47</td>\n      <td>D7</td>\n      <td>PASS</td>\n      <td>178</td>\n      <td>355</td>\n      <td>533</td>\n      <td>36</td>\n      <td>PLEASE IMPROVE ON YOUR GRADES</td>\n      <td>59.222222</td>\n      <td>th</td>\n    </tr>\n    <tr>\n      <th>2</th>\n      <td>2</td>\n      <td>SCI/300</td>\n      <td>ABDULRASHID ALIYU</td>\n      <td>19</td>\n      <td>34</td>\n      <td>53</td>\n      <td>C6</td>\n      <td>CREDIT</td>\n      <td>25</td>\n      <td>51</td>\n      <td>...</td>\n      <td>62</td>\n      <td>B3</td>\n      <td>GOOD</td>\n      <td>162</td>\n      <td>461</td>\n      <td>623</td>\n      <td>15</td>\n      <td>A BETTER PERFORMANCE PLEASE KEEP IT UP</td>\n      <td>69.222222</td>\n      <td>th</td>\n    </tr>\n    <tr>\n      <th>3</th>\n      <td>3</td>\n      <td>SCI/301</td>\n      <td>ABUBAKAR IBAHIM</td>\n      <td>20</td>\n      <td>40</td>\n      <td>60</td>\n      <td>B3</td>\n      <td>GOOD</td>\n      <td>29</td>\n      <td>60</td>\n      <td>...</td>\n      <td>60</td>\n      <td>B3</td>\n      <td>GOOD</td>\n      <td>202</td>\n      <td>502</td>\n      <td>704</td>\n      <td>6</td>\n      <td>GOOD RESULT PLEASE KEEP IT UP</td>\n      <td>78.222222</td>\n      <td>th</td>\n    </tr>\n    <tr>\n      <th>4</th>\n      <td>4</td>\n      <td>SCI/302</td>\n      <td>ABUBAKAR ISMAIL</td>\n      <td>20</td>\n      <td>48</td>\n      <td>68</td>\n      <td>B2</td>\n      <td>VERY GOOD</td>\n      <td>37</td>\n      <td>56</td>\n      <td>...</td>\n      <td>80</td>\n      <td>A1</td>\n      <td>EXCELLENT</td>\n      <td>221</td>\n      <td>543</td>\n      <td>764</td>\n      <td>2</td>\n      <td>AN EXCELLENT RESULT PLEASE KEEP IT UP</td>\n      <td>84.888889</td>\n      <td>nd</td>\n    </tr>\n  </tbody>\n</table>\n<p>5 rows \u00d7 55 columns</p>\n</div>",
                        "text/plain": "  Unnamed: 0 Unnamed: 1           SUBJECT: ENGLISH LANGUAGE Unnamed: 4  \\\n0      S/NO.   EXAM NUM               NAME               CA       EXAM   \n1          1    SCI/299     ABBAS MUHAMMAD               15         15   \n2          2    SCI/300  ABDULRASHID ALIYU               19         34   \n3          3    SCI/301    ABUBAKAR IBAHIM               20         40   \n4          4    SCI/302    ABUBAKAR ISMAIL               20         48   \n\n  Unnamed: 5 Unnamed: 6 Unnamed: 7 MATHEMATICS Unnamed: 9  ... Unnamed: 45  \\\n0       TOAL      GRADE    REMARKS          CA       EXAM  ...       TOTAL   \n1         30         F9       FAIL          23         34  ...          47   \n2         53         C6     CREDIT          25         51  ...          62   \n3         60         B3       GOOD          29         60  ...          60   \n4         68         B2  VERY GOOD          37         56  ...          80   \n\n  Unnamed: 46 Unnamed: 47 Unnamed: 48 Unnamed: 49  Unnamed: 50 Unnamed: 51  \\\n0       GRADE     REMARKS    CA TOTAL  EXAM TOTAL  TOTAL MARKS    POSITION   \n1          D7        PASS         178         355          533          36   \n2          B3        GOOD         162         461          623          15   \n3          B3        GOOD         202         502          704           6   \n4          A1   EXCELLENT         221         543          764           2   \n\n                              Unnamed: 52 Unnamed: 53 Unnamed: 54  \n0                            PRINCIPAL CM   AVR SCORE      SUFFIX  \n1           PLEASE IMPROVE ON YOUR GRADES   59.222222          th  \n2  A BETTER PERFORMANCE PLEASE KEEP IT UP   69.222222          th  \n3           GOOD RESULT PLEASE KEEP IT UP   78.222222          th  \n4   AN EXCELLENT RESULT PLEASE KEEP IT UP   84.888889          nd  \n\n[5 rows x 55 columns]"
                    },
                    "execution_count": 1,
                    "metadata": {},
                    "output_type": "execute_result"
                }
            ],
            "source": "# The code was removed by Watson Studio for sharing."
        },
        {
            "cell_type": "code",
            "execution_count": null,
            "metadata": {},
            "outputs": [],
            "source": ""
        },
        {
            "cell_type": "code",
            "execution_count": null,
            "metadata": {},
            "outputs": [],
            "source": ""
        },
        {
            "cell_type": "code",
            "execution_count": null,
            "metadata": {},
            "outputs": [],
            "source": ""
        }
    ],
    "metadata": {
        "kernelspec": {
            "display_name": "Python 3.8",
            "language": "python",
            "name": "python3"
        },
        "language_info": {
            "codemirror_mode": {
                "name": "ipython",
                "version": 3
            },
            "file_extension": ".py",
            "mimetype": "text/x-python",
            "name": "python",
            "nbconvert_exporter": "python",
            "pygments_lexer": "ipython3",
            "version": "3.8.12"
        }
    },
    "nbformat": 4,
    "nbformat_minor": 1
}