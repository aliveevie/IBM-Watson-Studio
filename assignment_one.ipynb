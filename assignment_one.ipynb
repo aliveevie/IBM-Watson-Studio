{
    "cells": [
        {
            "metadata": {
                "collapsed": true
            },
            "cell_type": "markdown",
            "source": "**My Jupyter Notebook on IBM Watson Studio**"
        },
        {
            "metadata": {},
            "cell_type": "markdown",
            "source": "**Name: Ibrahim Abdulkarim**\n\n\n**Occupation: Data Scientist**"
        },
        {
            "metadata": {},
            "cell_type": "markdown",
            "source": "*I am interested in data science because I wanted a rewarding career*"
        },
        {
            "metadata": {},
            "cell_type": "markdown",
            "source": "This cell is just adding two numbers"
        },
        {
            "metadata": {},
            "cell_type": "code",
            "source": "x = 1\ny = 2\nz = x + y\nprint(z)",
            "execution_count": 3,
            "outputs": [
                {
                    "output_type": "stream",
                    "text": "3\n",
                    "name": "stdout"
                }
            ]
        },
        {
            "metadata": {},
            "cell_type": "markdown",
            "source": "* This is my first Notebook Assignment\n1. This is the beginning of my jounrney as a data Scientist\n\n\n| Name          | Occupation    | Salary|\n| ------------- |:------------- | ----- |\n| John Shehu    | Engineer      | $1600 |\n| musa jatau    | Teacher       |   $12 |\n| zebra Ali     | Nurse         |    $1 |\n\n\nVisit google search engine(https://www.google.com)\n\n\nThis is my logo for the assignment: <a href=\"https://ibb.co/N9dD5rv\"><img src=\"https://i.ibb.co/N9dD5rv/Screenshot-8.jpg\" alt=\"Screenshot-8\" border=\"0\"></a>"
        },
        {
            "metadata": {},
            "cell_type": "code",
            "source": "",
            "execution_count": null,
            "outputs": []
        }
    ],
    "metadata": {
        "kernelspec": {
            "name": "python3",
            "display_name": "Python 3.8",
            "language": "python"
        },
        "language_info": {
            "name": "python",
            "version": "3.8.12",
            "mimetype": "text/x-python",
            "codemirror_mode": {
                "name": "ipython",
                "version": 3
            },
            "pygments_lexer": "ipython3",
            "nbconvert_exporter": "python",
            "file_extension": ".py"
        }
    },
    "nbformat": 4,
    "nbformat_minor": 1
}